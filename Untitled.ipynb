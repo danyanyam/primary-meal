{
 "cells": [
  {
   "cell_type": "code",
   "execution_count": 1,
   "metadata": {},
   "outputs": [],
   "source": [
    "import numpy as np\n",
    "import matplotlib.pyplot\n",
    "#scipy.special for the sigmoid function expit()\n",
    "import scipy.special\n",
    "%matplotlib inline"
   ]
  },
  {
   "cell_type": "code",
   "execution_count": 2,
   "metadata": {},
   "outputs": [],
   "source": [
    "#neural network class definition\n",
    "class neuralNetwork:\n",
    "    \n",
    "    #initialise the neural network\n",
    "    def __init__(self, inputnodes, hiddennodes, outputnodes, learningrate):\n",
    "        \n",
    "        #set number of nodes in each input, hidden, output layer\n",
    "        self.inodes = inputnodes\n",
    "        self.hnodes = hiddennodes\n",
    "        self.onodes = outputnodes\n",
    "        \n",
    "        #link weight matrices, wih(weights from input to hidden layer) and who (weights from hidden layer to output)\n",
    "        #weights inside the arrays are w_i_j, where link is from node i to node j in the next layer\n",
    "        #w11 w21 w12 w22 etc\n",
    "        self.wih = np.random.normal(0.0, pow(self.inodes, -0.5), (self.hnodes, self.inodes))\n",
    "        self.who = np.random.normal(0.0, pow(self.hnodes, -0.5), (self.onodes, self.hnodes))\n",
    "        \n",
    "        #learning rate\n",
    "        self.lr = learningrate     \n",
    "        \n",
    "        #activation functon is the sigmoid function\n",
    "        self.activation_function = lambda x: scipy.special.expit(x)\n",
    "        \n",
    "        pass\n",
    "    \n",
    "    #train the neural network\n",
    "    def train(self, inputs_list, targets_list):\n",
    "        \n",
    "        #convert inputs and targets list to 2d array\n",
    "        inputs = np.array(inputs_list, ndmin = 2).T\n",
    "        targets = np.array(targets_list, ndmin = 2).T\n",
    "        \n",
    "        #calculate signals into hidden layer\n",
    "        hidden_inputs = np.dot(self.wih, inputs)\n",
    "        #calculate signals emerging from hidden layer\n",
    "        hidden_outputs = self.activation_function(hidden_inputs)\n",
    "        \n",
    "        #calculate signals into final output layer\n",
    "        final_inputs = np.dot(self.who, hidden_outputs)\n",
    "        #calculate the signals emerging from output layer\n",
    "        final_outputs = self.activation_function(final_inputs)\n",
    "        \n",
    "        #error is the (target-actual)\n",
    "        output_errors = targets - final_outputs\n",
    "        \n",
    "        #hidden layer error is the output_errors, split by weights, recombined by hiden nodes\n",
    "        hidden_errors = np.dot(self.who.T, output_errors)\n",
    "        \n",
    "        #update the weights for the links between the hidden and output layers\n",
    "        self.who += self.lr * np.dot((output_errors * final_outputs * (1-final_outputs)), np.transpose(hidden_outputs))\n",
    "        \n",
    "        #update the weights for the links between the input and hidden layers\n",
    "        self.wih += self.lr * np.dot((hidden_errors * hidden_outputs * (1-hidden_outputs)), np.transpose(inputs))\n",
    "\n",
    "        pass\n",
    "    \n",
    "    #query the neural network\n",
    "    def query(self, inputs_list):\n",
    "        \n",
    "        #convert inputs list to 2d array\n",
    "        inputs = np.array(inputs_list, ndmin = 2).T\n",
    "        \n",
    "        #calculate signals into hidden layer\n",
    "        hidden_inputs = np.dot(self.wih, inputs)\n",
    "        #calculate signals emerging from hidden layer\n",
    "        hidden_outputs = self.activation_function(hidden_inputs)\n",
    "        \n",
    "        #calculate signals into final output layer\n",
    "        final_inputs = np.dot(self.who, hidden_outputs)\n",
    "        #calculate the signals emerging from output layer\n",
    "        final_outputs = self.activation_function(final_inputs)\n",
    "        return final_outputs\n",
    "        pass"
   ]
  },
  {
   "cell_type": "code",
   "execution_count": 3,
   "metadata": {},
   "outputs": [],
   "source": [
    "input_nodes = 784  #number of input, hidden and output nodes (equals to the amount of pixels in each line / number image)\n",
    "hidden_nodes = 200 #not very scientific. less than the number of inputs to make the network summarise the key features\n",
    "output_nodes = 10\n",
    "learning_rate = 0.1\n",
    "\n",
    "#create instance of neural network\n",
    "n = neuralNetwork(input_nodes, hidden_nodes, output_nodes, learning_rate)"
   ]
  },
  {
   "cell_type": "code",
   "execution_count": 4,
   "metadata": {},
   "outputs": [],
   "source": [
    "#load the mnist training data CSV file into a list\n",
    "training_data_file = open(\"mnist_dataset/mnist_train.csv\",\"r\")\n",
    "training_data_list = training_data_file.readlines()\n",
    "training_data_file.close()"
   ]
  },
  {
   "cell_type": "code",
   "execution_count": 6,
   "metadata": {},
   "outputs": [],
   "source": [
    "#train the neural network\n",
    "#epochs is the number of times the training data set is used for trainig\n",
    "epochs = 7\n",
    "\n",
    "for e in range(epochs):\n",
    "    #go through all records in the training data set\n",
    "    for record in training_data_list:\n",
    "        #split the records by the ',' commas\n",
    "        all_values = record.split(',')\n",
    "        #scale and shift the inputs\n",
    "        inputs = (np.asfarray(all_values[1:]) / 255.0 * 0.99) + 0.01\n",
    "        #create the target output values (all 0.01, except the desired lable which is 0.99)\n",
    "        targets = np.zeros(output_nodes) + 0.01\n",
    "        #all_values[0] is the target label for this record\n",
    "        targets[int(all_values[0])] = 0.99\n",
    "        n.train(inputs, targets)\n",
    "        pass\n",
    "pass"
   ]
  },
  {
   "cell_type": "code",
   "execution_count": 7,
   "metadata": {},
   "outputs": [],
   "source": [
    "#load the mnist test data CSV file into a list\n",
    "test_data_file = open(\"mnist_dataset/mnist_test.csv\",\"r\")\n",
    "test_data_list = test_data_file.readlines()\n",
    "test_data_file.close()"
   ]
  },
  {
   "cell_type": "code",
   "execution_count": 8,
   "metadata": {},
   "outputs": [
    {
     "data": {
      "text/plain": [
       "<matplotlib.image.AxesImage at 0x1ee7f12b670>"
      ]
     },
     "execution_count": 8,
     "metadata": {},
     "output_type": "execute_result"
    },
    {
     "data": {
      "image/png": "[encoded data removed]",
      "text/plain": [
       "<Figure size 432x288 with 1 Axes>"
      ]
     },
     "metadata": {
      "needs_background": "light"
     },
     "output_type": "display_data"
    }
   ],
   "source": [
    "all_values = test_data_list[3].split(\",\")\n",
    "image_array = np.asfarray(all_values[1:]).reshape(28,28)\n",
    "matplotlib.pyplot.imshow(image_array, cmap=\"Blues\", interpolation=\"None\")"
   ]
  },
  {
   "cell_type": "code",
   "execution_count": 9,
   "metadata": {},
   "outputs": [
    {
     "data": {
      "text/plain": [
       "array([[0.99263527],\n",
       "       [0.013966  ],\n",
       "       [0.0016621 ],\n",
       "       [0.03306444],\n",
       "       [0.01280074],\n",
       "       [0.00369893],\n",
       "       [0.00716634],\n",
       "       [0.01240041],\n",
       "       [0.00557915],\n",
       "       [0.01145068]])"
      ]
     },
     "execution_count": 9,
     "metadata": {},
     "output_type": "execute_result"
    }
   ],
   "source": [
    "n.query((np.asfarray(all_values[1:]) / 255.0 * 0.99) + 0.01)"
   ]
  },
  {
   "cell_type": "code",
   "execution_count": 10,
   "metadata": {},
   "outputs": [],
   "source": [
    "# test the neural network\n",
    "\n",
    "#scorecard for how well the network performs, initially empty\n",
    "scorecard = []\n",
    "\n",
    "#go through all the records in the test data set\n",
    "for record in test_data_list:\n",
    "    #split the record by the \",\" commas\n",
    "    all_values = record.split(\",\")\n",
    "    #correct answer is the first value\n",
    "    correct_label = int(all_values[0])\n",
    "    #print(correct_label, \"correct label\")\n",
    "    #scale and shift the inputs\n",
    "    inputs = (np.asfarray(all_values[1:]) / 255.0 * 0.99) + 0.01\n",
    "    #query the network\n",
    "    outputs = n.query(inputs)\n",
    "    #the indes of the highest value corresponds to the label\n",
    "    label = np.argmax(outputs)\n",
    "    #print (label, \"network's answer\")\n",
    "    # append correct or incorrect to list\n",
    "    if (label == correct_label):\n",
    "        #network's answer matches correct answer, add 1 to scorecard\n",
    "        scorecard.append(1)\n",
    "    else:\n",
    "        #network's answer doesn't match correct answer, add 0 to scorecard\n",
    "        scorecard.append(0)\n",
    "        pass\n",
    "    pass\n",
    "\n"
   ]
  },
  {
   "cell_type": "code",
   "execution_count": 12,
   "metadata": {},
   "outputs": [
    {
     "name": "stdout",
     "output_type": "stream",
     "text": [
      "performance = 0.9734\n"
     ]
    }
   ],
   "source": [
    "#calculate the performance score, the fraction of correct answers\n",
    "scorecard_array = np.asarray(scorecard)\n",
    "print (\"performance =\", scorecard_array.sum() / scorecard_array.size)"
   ]
  }
 ],
 "metadata": {
  "kernelspec": {
   "display_name": "Python 3 (ipykernel)",
   "language": "python",
   "name": "python3"
  },
  "language_info": {
   "codemirror_mode": {
    "name": "ipython",
    "version": 3
   },
   "file_extension": ".py",
   "mimetype": "text/x-python",
   "name": "python",
   "nbconvert_exporter": "python",
   "pygments_lexer": "ipython3",
   "version": "3.9.4"
  }
 },
 "nbformat": 4,
 "nbformat_minor": 2
}
